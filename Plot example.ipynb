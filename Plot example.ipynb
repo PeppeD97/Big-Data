{
 "cells": [
  {
   "cell_type": "markdown",
   "metadata": {},
   "source": [
    "# Esempio di Plot\n",
    "\n",
    "Disegnamo le funzioni:\n",
    "\n",
    "- $y = x$\n",
    "- $y = x^2$\n",
    "- $y = x^3$"
   ]
  },
  {
   "cell_type": "code",
   "execution_count": 5,
   "metadata": {},
   "outputs": [
    {
     "data": {
      "image/png": "[encoded data removed]",
      "text/plain": [
       "<Figure size 432x288 with 1 Axes>"
      ]
     },
     "metadata": {
      "needs_background": "light"
     },
     "output_type": "display_data"
    }
   ],
   "source": [
    "import math as m\n",
    "import matplotlib.pyplot as plt\n",
    "import numpy as np\n",
    "\n",
    "\n",
    "x = np.linspace(0, 2, 100)\n",
    "\n",
    "plt.plot(x, x, label='linear')\n",
    "plt.plot(x, x**2, label='quadratic')\n",
    "plt.plot(x, x**3, label='cubic')\n",
    "\n",
    "plt.xlabel('x label')\n",
    "plt.ylabel('y label')\n",
    "\n",
    "plt.title(\"Simple Plot\")\n",
    "\n",
    "plt.legend()\n",
    "\n",
    "plt.show()"
   ]
  },
  {
   "cell_type": "markdown",
   "metadata": {},
   "source": [
    "Analizziamo il codice scritto:\n",
    "\n",
    "```python\n",
    "import math as m\n",
    "import matplotlib.pyplot as plt\n",
    "```\n",
    "\n",
    "Per prima cosa importiamo `math` per avere le funzioni matematiche. La libreria `matplotlib` fornisce un'interessante API denominata `pyplot` che ci presenta un'interfaccia di `matplotlib` rappresentata come _macchina a stati_ per cui componiamo la figura che vogliamo _per parti_, un po' ocome in `MATLAB`. \n",
    "\n",
    "Come riferimento guardiamo la figura seguente:\n",
    "\n",
    "![Struttura di un grafico con la API `pyplot`](https://matplotlib.org/3.1.1/_images/anatomy.png)\n",
    "<p style=\"textalign: center\"><span style=\"font-weight: bold\">Figura 1:</span> Struttura di un grafico con la API <code>pyplot</code> (Fonte: <a href=\"https://matplotlib.org/3.1.1/index.html\">matplotlib.org</a>)</p>\n",
    "\n",
    "Come si vede chiaramente, la API `pyplot` ci consente di creare una _figure_ che è composta tra le altre cose dal grafico vero e proprio e da tutta una serie di oggetti che lo decorano.\n",
    "\n",
    "Al fine di creare i nostri dati invochiamo `numpy` e richiediamo la generazione di un _linear space_:\n",
    "\n",
    "```python\n",
    "import numpy as np\n",
    "\n",
    "\n",
    "x = np.linspace(0, 2, 100)\n",
    "```\n",
    "\n",
    "`numpy` è la libreria Python per il calcolo scientifico che implementa gli array n-dimensionali e le operazioni matematiche su di essi. In particolare il metodo `numpy.linspace(start,stop,num)` crea un array costituito da `num` elementi uniformemente distribuiti tra `start` e `stop`, estremi inclusi.\n",
    "\n",
    "Il grafico vero e proprio viene generato con le chiamate seguenti:\n",
    "\n",
    "```python\n",
    "plt.plot(x, x, label='linear')\n",
    "plt.plot(x, x**2, label='quadratic')\n",
    "plt.plot(x, x**3, label='cubic')\n",
    "```\n",
    "\n",
    "Si noti qui l'uso dell'operatore di elevazione a potenza `**` che è applicato all'array `x` direttamente elemento per elemento.\n",
    "\n",
    "La chiamata a `matplotlib.pyplot.plot([x], y, [fmt], scalex=True, scaley=True, data=None, **kwargs)` disegna effettivamente un grafico con i soli assi e la curva ottenuta dal vettore `y` vs `x` che funge da ascissa. La stringa `fmt` è una combinazione di caratteri che indicano il formato della linea in termini di _<marcatore,tratto,colore>_. per esempio il valore '+r--' indica dei marcatori '+' di colore rosso e linea a tratti ('--'). I parametri di scala alla dimensione mostrata del canvas `scalex` e `scaley` sono veri di default mentre `data` fa riferimento a un oggetto Python indicizzabile, come ad esempio un `dict`, il quale può essere usato per ospitare la corrispondenza tra ascisse ed ordinate del grafico al posto di passare i due array separatamente. Infine `kwargs` sono una lista di coppie chiave-valore, definite nella classe _`matplotlib.lines.Line2D`_, che compongono lo stile della linea. Un esempio sono le specifiche `label` nel codice.\n",
    "\n",
    "Le linee seguenti:\n",
    "```python\n",
    "plt.xlabel('x label')\n",
    "plt.ylabel('y label')\n",
    "\n",
    "plt.title(\"Simple Plot\")\n",
    "\n",
    "plt.legend()\n",
    "\n",
    "plt.show()\n",
    "```\n",
    "aggiungono rspettivamente la didascalia degli assi _x_ ed _y_, il titolo della figura e la legenda: i colori ed il tratto delle linee sono quelli di default mentre il testo della legenda è ottenuto dal parametro `label` passato alle chiamate `plot()`. Infine il metodo `show()` mostra effettivamente l'intera figura.\n",
    "\n",
    "\n",
    "# Esercizi\n",
    "\n",
    "1. Generare una sequenza di 20 valori tratti uniformememnte dalla funzione $e^{-sin(x)}$ nell'intervallo $[0,\\pi]$ e disegnarli utilizzando un marcatore a forma di diamante, di colore marrone e senza linea di raccordo. Si aggiungano il titolo, le didascalie, le legende e si impostino i _minor ticks_ a passi di $0.1$ con le relative legende.\n",
    "2. Generare un istogramma a partire da un insieme di dati etichettati contenuti in un dict: `fruits={'apple': 23, 'banana': 48, 'mango': 65, 'lemon': 12}` utilizzando il metodo `hist()`. Si lascia libertà di scelta sul colore delle barre e sul testo del titolo e delle didascalie.\n",
    "    1. _Parte Opzionale_: si crei un istogramma bidimensionale e/o con barre multivalore a partire dalla seguente struttura dati: \\\n",
    "    `fruit_sells = {'apple': {'Q1': 12, 'Q2': 24, 'Q3': 31, 'Q4': 17}, 'banana': {'Q1': 21, 'Q2': 30, 'Q3': 18, 'Q4': 53}, 'mango': {'Q1': 18, 'Q2': 9, 'Q3': 33, 'Q4': 65}, 'lemon': {'Q1': 30, 'Q2': 8, 'Q3': 17, 'Q4': 23}}`"
   ]
  },
  {
   "cell_type": "code",
   "execution_count": null,
   "metadata": {},
   "outputs": [],
   "source": []
  }
 ],
 "metadata": {
  "kernelspec": {
   "display_name": "Python 3",
   "language": "python",
   "name": "python3"
  },
  "language_info": {
   "codemirror_mode": {
    "name": "ipython",
    "version": 3
   },
   "file_extension": ".py",
   "mimetype": "text/x-python",
   "name": "python",
   "nbconvert_exporter": "python",
   "pygments_lexer": "ipython3",
   "version": "3.7.3"
  }
 },
 "nbformat": 4,
 "nbformat_minor": 4
}
