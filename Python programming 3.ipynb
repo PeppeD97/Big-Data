{
 "cells": [
  {
   "cell_type": "markdown",
   "metadata": {
    "pycharm": {
     "name": "#%% md\n"
    }
   },
   "source": [
    "# Dictionaries, Set, Espressioni Regolari, Gestione delle eccezioni, File e Utilità di sistema\n",
    "\n",
    "Un _dictionary_ è una struttura hash di coppie chiave-valore. Si ottiene attraverso la funzione built-in `dict()` e il letterale è racchiuso tra parentesi graffe `{ }`. Le chiavi hanno forma di stringhe e si utilizza la notazione array `<dictionary>['<chiave>']` per ottenere il valore associato alla singola chiave. Un `dict` è un _iterable_.\n",
    "\n",
    "E' possibile ottenere un `dict` da un qualunque oggetto iterabile, oppure con la notazione `for ... in` ovvero specificando le chiavi ed i valori come _kwargs_ nella funzione `dict`\n"
   ]
  },
  {
   "cell_type": "code",
   "execution_count": 9,
   "metadata": {
    "collapsed": false,
    "jupyter": {
     "outputs_hidden": false
    },
    "pycharm": {
     "is_executing": false,
     "name": "#%%\n"
    }
   },
   "outputs": [
    {
     "name": "stdout",
     "output_type": "stream",
     "text": [
      "{'anne': 4139, 'guido': 4127, 'jack': 4098}\n",
      "{'mary': 'M', 'jack': 'J', 'dan': 'D'}\n",
      "{'tic': 1, 'tac': 2, 'toe': 3}\n",
      "{'nome': 'Topolino', 'eta': 75, 'vive': 'Topolinia', 'famoso': True, 'amici': {'Pippo', 'Pluto', 'Basettoni'}}\n",
      "nome, eta, vive, famoso, amici, \n",
      "Topolino, 75, Topolinia, True, {'Pippo', 'Pluto', 'Basettoni'}, \n",
      "nome: Topolino, eta: 75, vive: Topolinia, famoso: True, amici: {'Pippo', 'Pluto', 'Basettoni'}, \n",
      "{'nome': 'Pluto', 'eta': 70, 'vive': 'Topolinia', 'famoso': True, 'amici': {'Topolino'}}\n",
      "{'Topolino'} {'nome': 'Pluto', 'vive': 'Topolinia'}\n",
      "{}\n"
     ]
    },
    {
     "ename": "NameError",
     "evalue": "name 'pluto' is not defined",
     "output_type": "error",
     "traceback": [
      "\u001b[0;31m---------------------------------------------------------------------------\u001b[0m",
      "\u001b[0;31mNameError\u001b[0m                                 Traceback (most recent call last)",
      "\u001b[0;32m<ipython-input-9-98882144e8db>\u001b[0m in \u001b[0;36m<module>\u001b[0;34m\u001b[0m\n\u001b[1;32m     56\u001b[0m \u001b[0;32mdel\u001b[0m \u001b[0mpluto\u001b[0m \u001b[0;31m# cancella il nome pluto: da adesso in poi valutare pluto comporta un errore\u001b[0m\u001b[0;34m\u001b[0m\u001b[0;34m\u001b[0m\u001b[0m\n\u001b[1;32m     57\u001b[0m \u001b[0;34m\u001b[0m\u001b[0m\n\u001b[0;32m---> 58\u001b[0;31m \u001b[0mpluto\u001b[0m\u001b[0;34m\u001b[0m\u001b[0;34m\u001b[0m\u001b[0m\n\u001b[0m\u001b[1;32m     59\u001b[0m \u001b[0;34m\u001b[0m\u001b[0m\n",
      "\u001b[0;31mNameError\u001b[0m: name 'pluto' is not defined"
     ]
    }
   ],
   "source": [
    "phoneNumbers = dict([('anne', 4139), ('guido', 4127), ('jack', 4098)]) # ottiene un dictionary da una lista di tuple\n",
    "print(phoneNumbers)\n",
    "initials = {x : x.capitalize()[0] for x in ('mary','jack','dan')} # mappa gli elementi della tupla come chiavi ed i valori sono ottenuti dall'espressione dopo i ':'\n",
    "print(initials)\n",
    "\n",
    "ticTacToe = dict (tic=1,tac=2,toe=3)\n",
    "print(ticTacToe)\n",
    "\n",
    "topolino = {}\n",
    "\n",
    "topolino['nome']='Topolino'\n",
    "topolino['eta']=75\n",
    "topolino['vive']='Topolinia'\n",
    "topolino['famoso']=True\n",
    "topolino['amici']={'Pippo','Pluto','Basettoni'} # questo è un set\n",
    "\n",
    "print(topolino)\n",
    "\n",
    "for k in topolino.keys(): # lista delle chiavi\n",
    "    print(k,end=', ')\n",
    "print()\n",
    "\n",
    "for v in topolino.values(): # lista dei valori\n",
    "    print(v,end=', ')\n",
    "print()\n",
    "\n",
    "for key, val in topolino.items(): # lista delle coppie chiave/valore come tuple\n",
    "    print(key, val,sep=': ',end=', ')\n",
    "print()\n",
    "\n",
    "pluto=dict.fromkeys(topolino) # fromkeys crea un dict nuovo con le chiavi impostate a None\n",
    "pluto['nome']='Pluto'\n",
    "pluto['eta']=70\n",
    "pluto['vive']=topolino.get('vive') # restituisce il valore corrispondente alla chiave passata come argomento\n",
    "pluto['famoso']=True\n",
    "\n",
    "if pluto['nome'] not in topolino['amici']: # in e not in sono operatori che danno un risultato booleano\n",
    "    pluto['amici']={'nessuno'} # creo un set con un solo elemento\n",
    "else:\n",
    "    pluto['amici']={topolino['nome']} # creo un set con un elemento valutando una espressione\n",
    "\n",
    "print(pluto)\n",
    "\n",
    "friends=pluto.pop('amici') # elimina l'item e restituisce il valore\n",
    "\n",
    "pluto.popitem()  # rimuove l'ultimo item dal dict\n",
    "\n",
    "del pluto['eta'] # del cancella l'elemento su cui opera\n",
    "\n",
    "print(friends,pluto)\n",
    "\n",
    "pluto.clear() # cancella tutti gli item\n",
    "\n",
    "print(pluto)\n",
    "\n",
    "del pluto # cancella il nome pluto: da adesso in poi valutare pluto comporta un errore\n",
    "\n",
    "pluto"
   ]
  },
  {
   "cell_type": "markdown",
   "metadata": {
    "pycharm": {
     "name": "#%% md\n"
    }
   },
   "source": [
    "## Set\n",
    "\n",
    "Un set è un insieme di valori _non ripetuti_ racchiusi tra parentesi graffe `{ }` ***senza*** specifica di chiave. E' indicato per creare raggruppamenti di valori per cui sia rilevante giudicare l'appartenenza di un elemento all'insieme utilizzando `in` e `not in`."
   ]
  },
  {
   "cell_type": "code",
   "execution_count": 1,
   "metadata": {
    "collapsed": false,
    "jupyter": {
     "outputs_hidden": false
    },
    "pycharm": {
     "is_executing": false,
     "name": "#%%\n"
    }
   },
   "outputs": [
    {
     "name": "stdout",
     "output_type": "stream",
     "text": [
      "{'b', 'r', 'd', 'c', 'a'} {'z', 'c', 'm', 'a', 'l'}\n",
      "{'d', 'r', 'b'}\n",
      "{'b', 'r', 'z', 'd', 'c', 'm', 'a', 'l'}\n",
      "{'c', 'a'}\n",
      "{'d', 'm', 'b', 'l', 'r', 'z'}\n"
     ]
    }
   ],
   "source": [
    "a = set('abracadabra')                      # uso della funzione built-in\n",
    "b = {'a','l','a','c','a','z','a','m'}       # letterale di tipo set\n",
    "\n",
    "print(a,b)                                  # stampa solo i valori unici\n",
    "\n",
    "print(a - b)                              # complemento di a rispetto a b\n",
    "\n",
    "print(a | b)                              # unione\n",
    "\n",
    "print(a & b)                              # intersezione\n",
    "\n",
    "print(a ^ b)                              # or esclusivo: a ∪ b - a ∩ b\n"
   ]
  },
  {
   "cell_type": "markdown",
   "metadata": {
    "pycharm": {
     "name": "#%% md\n"
    }
   },
   "source": [
    "## Gestione delle eccezioni Python\n",
    "\n",
    "Le eccezioni si gestiscono con il costrutto:\n",
    "\n",
    "```python\n",
    "try:\n",
    "    # codice da eseguire\n",
    "except <espressione>: # blocco opzionale che intercetta l'eccezione calcolata con <espressione> e la gestisce\n",
    "    # gestione della particolare eccezione intercettata\n",
    "#\n",
    "# Può esserci più di un blocco except\n",
    "#\n",
    "\n",
    "else: # blocco opzionale\n",
    "    # codice eseguito se non è stata sollevata alcuna eccezione\n",
    "\n",
    "finally: # blocco opzionale\n",
    "    # codice eseguito in coda a tutti i gestori di eccezioni\n",
    "    # a prescindere che siano state sollevate o meno\n",
    "```\n",
    "\n",
    "Lista delle eccezioni più comuni:\n",
    "\n",
    "<table border=\"1\">\n",
    "\t<caption>Python Built-in Exceptions</caption>\n",
    "\t<tbody>\n",
    "\t\t<tr>\n",
    "\t\t\t<th scope=\"col\">Exception</th>\n",
    "\t\t\t<th scope=\"col\">Cause of Error</th>\n",
    "\t\t</tr>\n",
    "\t\t<tr>\n",
    "\t\t\t<td>AssertionError</td>\n",
    "\t\t\t<td>Raised when <code>assert</code> statement fails.</td>\n",
    "\t\t</tr>\n",
    "\t\t<tr>\n",
    "\t\t\t<td>AttributeError</td>\n",
    "\t\t\t<td>Raised when attribute assignment or reference fails.</td>\n",
    "\t\t</tr>\n",
    "\t\t<tr>\n",
    "\t\t\t<td>EOFError</td>\n",
    "\t\t\t<td>Raised when the <code>input()</code> functions hits end-of-file condition.</td>\n",
    "\t\t</tr>\n",
    "\t\t<tr>\n",
    "\t\t\t<td>FloatingPointError</td>\n",
    "\t\t\t<td>Raised when a floating point operation fails.</td>\n",
    "\t\t</tr>\n",
    "\t\t<tr>\n",
    "\t\t\t<td>GeneratorExit</td>\n",
    "\t\t\t<td>Raise when a generator&#39;s <code>close()</code> method is called.</td>\n",
    "\t\t</tr>\n",
    "\t\t<tr>\n",
    "\t\t\t<td>ImportError</td>\n",
    "\t\t\t<td>Raised when the imported module is not found.</td>\n",
    "\t\t</tr>\n",
    "\t\t<tr>\n",
    "\t\t\t<td>IndexError</td>\n",
    "\t\t\t<td>Raised when index of a sequence is out of range.</td>\n",
    "\t\t</tr>\n",
    "\t\t<tr>\n",
    "\t\t\t<td>KeyError</td>\n",
    "\t\t\t<td>Raised when a key is not found in a dictionary.</td>\n",
    "\t\t</tr>\n",
    "\t\t<tr>\n",
    "\t\t\t<td>KeyboardInterrupt</td>\n",
    "\t\t\t<td>Raised when the user hits interrupt key (Ctrl+c or delete).</td>\n",
    "\t\t</tr>\n",
    "\t\t<tr>\n",
    "\t\t\t<td>MemoryError</td>\n",
    "\t\t\t<td>Raised when an operation runs out of memory.</td>\n",
    "\t\t</tr>\n",
    "\t\t<tr>\n",
    "\t\t\t<td>NameError</td>\n",
    "\t\t\t<td>Raised when a variable is not found in local or global scope.</td>\n",
    "\t\t</tr>\n",
    "\t\t<tr>\n",
    "\t\t\t<td>NotImplementedError</td>\n",
    "\t\t\t<td>Raised by abstract methods.</td>\n",
    "\t\t</tr>\n",
    "\t\t<tr>\n",
    "\t\t\t<td>OSError</td>\n",
    "\t\t\t<td>Raised when system operation causes system related error.</td>\n",
    "\t\t</tr>\n",
    "\t\t<tr>\n",
    "\t\t\t<td>OverflowError</td>\n",
    "\t\t\t<td>Raised when result of an arithmetic operation is too large to be represented.</td>\n",
    "\t\t</tr>\n",
    "\t\t<tr>\n",
    "\t\t\t<td>ReferenceError</td>\n",
    "\t\t\t<td>Raised when a weak reference proxy is used to access a garbage collected referent.</td>\n",
    "\t\t</tr>\n",
    "\t\t<tr>\n",
    "\t\t\t<td>RuntimeError</td>\n",
    "\t\t\t<td>Raised when an error does not fall under any other category.</td>\n",
    "\t\t</tr>\n",
    "\t\t<tr>\n",
    "\t\t\t<td>StopIteration</td>\n",
    "\t\t\t<td>Raised by <code>next()</code> function to indicate that there is no further item to be returned by iterator.</td>\n",
    "\t\t</tr>\n",
    "\t\t<tr>\n",
    "\t\t\t<td>SyntaxError</td>\n",
    "\t\t\t<td>Raised by parser when syntax error is encountered.</td>\n",
    "\t\t</tr>\n",
    "\t\t<tr>\n",
    "\t\t\t<td>IndentationError</td>\n",
    "\t\t\t<td>Raised when there is incorrect indentation.</td>\n",
    "\t\t</tr>\n",
    "\t\t<tr>\n",
    "\t\t\t<td>TabError</td>\n",
    "\t\t\t<td>Raised when indentation consists of inconsistent tabs and spaces.</td>\n",
    "\t\t</tr>\n",
    "\t\t<tr>\n",
    "\t\t\t<td>SystemError</td>\n",
    "\t\t\t<td>Raised when interpreter detects internal error.</td>\n",
    "\t\t</tr>\n",
    "\t\t<tr>\n",
    "\t\t\t<td>SystemExit</td>\n",
    "\t\t\t<td>Raised by <code>sys.exit()</code> function.</td>\n",
    "\t\t</tr>\n",
    "\t\t<tr>\n",
    "\t\t\t<td>TypeError</td>\n",
    "\t\t\t<td>Raised when a function or operation is applied to an object of incorrect type.</td>\n",
    "\t\t</tr>\n",
    "\t\t<tr>\n",
    "\t\t\t<td>UnboundLocalError</td>\n",
    "\t\t\t<td>Raised when a reference is made to a local variable in a function or method, but no value has been bound to that variable.</td>\n",
    "\t\t</tr>\n",
    "\t\t<tr>\n",
    "\t\t\t<td>UnicodeError</td>\n",
    "\t\t\t<td>Raised when a Unicode-related encoding or decoding error occurs.</td>\n",
    "\t\t</tr>\n",
    "\t\t<tr>\n",
    "\t\t\t<td>UnicodeEncodeError</td>\n",
    "\t\t\t<td>Raised when a Unicode-related error occurs during encoding.</td>\n",
    "\t\t</tr>\n",
    "\t\t<tr>\n",
    "\t\t\t<td>UnicodeDecodeError</td>\n",
    "\t\t\t<td>Raised when a Unicode-related error occurs during decoding.</td>\n",
    "\t\t</tr>\n",
    "\t\t<tr>\n",
    "\t\t\t<td>UnicodeTranslateError</td>\n",
    "\t\t\t<td>Raised when a Unicode-related error occurs during translating.</td>\n",
    "\t\t</tr>\n",
    "\t\t<tr>\n",
    "\t\t\t<td>ValueError</td>\n",
    "\t\t\t<td>Raised when a function gets argument of correct type but improper value.</td>\n",
    "\t\t</tr>\n",
    "\t\t<tr>\n",
    "\t\t\t<td>ZeroDivisionError</td>\n",
    "\t\t\t<td>Raised when second operand of division or modulo operation is zero.</td>\n",
    "\t\t</tr>\n",
    "\t</tbody>\n",
    "</table>"
   ]
  },
  {
   "cell_type": "code",
   "execution_count": null,
   "metadata": {
    "collapsed": false,
    "jupyter": {
     "outputs_hidden": false
    },
    "pycharm": {
     "name": "#%% \n"
    }
   },
   "outputs": [],
   "source": [
    "a = iter(['pippo','pluto','paperino'])\n",
    "\n",
    "while True:\n",
    "    try:\n",
    "        print(next(a))\n",
    "    except StopIteration:\n",
    "        print('Non ci sono più elementi!!')\n",
    "        break\n"
   ]
  },
  {
   "cell_type": "code",
   "execution_count": 2,
   "metadata": {
    "collapsed": false,
    "jupyter": {
     "outputs_hidden": false
    },
    "pycharm": {
     "name": "#%%\n"
    }
   },
   "outputs": [
    {
     "name": "stdout",
     "output_type": "stream",
     "text": [
      "Il risultato è 0.75\n"
     ]
    },
    {
     "data": {
      "text/plain": [
       "0.75"
      ]
     },
     "execution_count": 2,
     "metadata": {},
     "output_type": "execute_result"
    }
   ],
   "source": [
    "def dividi(num,den):\n",
    "    quoziente = 0\n",
    "    try:\n",
    "        quoziente = num/den\n",
    "    except ZeroDivisionError:\n",
    "        print('Divisione per 0!!')\n",
    "        return None\n",
    "    except TypeError as te: # as consente di utilizzare l'oggetto eccezione nel blocco except\n",
    "        if isinstance(num,type(0)) or isinstance(num,type(0.0)):\n",
    "            print('Il denominatore non è un numero')\n",
    "        elif isinstance(den,type(0)) or isinstance(den,type(0.0)):\n",
    "            print('Il numeratore non è un numero')\n",
    "        else:\n",
    "            print('argomenti non numerici')\n",
    "        print(f'\\n\\nEccezione: {type(te).__name__}\\nMessaggio: {te.args[0]}')\n",
    "        return None\n",
    "    else:\n",
    "        print(f'Il risultato è {quoziente}')\n",
    "        return quoziente\n",
    "    finally:\n",
    "        # A solo titolo indicativo: qui potrebbero essere eseguite azioni esplicite di garbage collection per dati di grandi dimensioni\n",
    "        del quoziente\n",
    "\n",
    "dividi(3,4)"
   ]
  },
  {
   "cell_type": "markdown",
   "metadata": {},
   "source": [
    "### Costrutto `with`\n",
    "\n",
    "`with` genera un _runtime context manager_ a partire dalla valutazione di una espressione che fornisce il contesto di esecuzione e che può essere riferita all'interno del blocco tramite l'operatore `as`. I contesti with possono essere multipli. `with` esegue automaticamente i metodi `__enter__()` e `__exit__()` del contesto che quindi dev'essere un oggetto che implementa questi due metodi. Questo è ad esempio il caso dell'esecuzione di `open()`.\n",
    "\n",
    "```python\n",
    "with <contesto> as <target> [,<contesto> as <target> ...]:\n",
    "    # operazioni da eseguire\n",
    "```\n",
    "\n",
    "## Espressioni Regolari\n",
    "\n",
    "Il modulo `re` gestisce le espressioni regolari che hanno un letterale del tipo:\n",
    "\n",
    "```python\n",
    "r'[\\w.-]+@[\\w.-]+'\n",
    "```"
   ]
  },
  {
   "cell_type": "code",
   "execution_count": 18,
   "metadata": {
    "collapsed": false,
    "jupyter": {
     "outputs_hidden": false
    },
    "pycharm": {
     "is_executing": false,
     "name": "#%%\n"
    }
   },
   "outputs": [
    {
     "name": "stdout",
     "output_type": "stream",
     "text": [
      "alice-b@google.com\n",
      "alice@google.com\n",
      "alice\n",
      "google.com\n",
      "[('alice', 'google.com'), ('bob', 'abc.com')]\n",
      "alice: google.com\n",
      "bob: abc.com\n"
     ]
    }
   ],
   "source": [
    "import re\n",
    "\n",
    "str = 'purple alice-b@google.com monkey dishwasher'\n",
    "str1 = 'purple alice@google.com, blah monkey bob@abc.com blah dishwasher'\n",
    "\n",
    "match = re.search(r'[\\w.-]+@[\\w.-]+', str) # cerca l'espressione regolare\n",
    "\n",
    "if match:\n",
    "    print(match.group())       # stampa il gruppo di caratteri che fa parte del **primo** match\n",
    "else:\n",
    "    print('Nessuna corrispondenza')\n",
    "    \n",
    "match = re.search(r'([\\w\\.-]+)@([\\w\\.-]+)', str1) # cerca l'espressione regolare che è suddivisa in gruppi attraverso le parentesi tonde ( )\n",
    "\n",
    "if match:\n",
    "    print(match.group())       # stampa il gruppo di caratteri che corrisponde a tutto il primo match\n",
    "    print(match.group(1))       # stampa il gruppo di caratteri che corrisponde a tutto il primo match\n",
    "    print(match.group(2))       # stampa il gruppo di caratteri che corrisponde a tutto il primo match\n",
    "else:\n",
    "    print('Nessuna corrispondenza')\n",
    "    \n",
    "tuples = re.findall(r'([\\w\\.-]+)@([\\w\\.-]+)', str1) # cerca tutte le occorrenze dell'espressione regolare\n",
    "\n",
    "if tuples:\n",
    "\n",
    "  print(tuples)  ## [('alice', 'google.com'), ('bob', 'abc.com')]\n",
    "  for tuple in tuples:\n",
    "    print(tuple[0],tuple[1],sep=': ')  ## username: host\n",
    "else:\n",
    "    print('Nessuna corrispondenza')\n",
    "    \n"
   ]
  },
  {
   "cell_type": "markdown",
   "metadata": {
    "pycharm": {
     "name": "#%% md\n"
    }
   },
   "source": [
    "## File\n",
    "\n",
    "I file sono oggetti che implementano un'interfaccia verso tre tipologie di flussi: testo, binari e bufferizzati. L'oggetto file si ottiene tramite la funzione `open()`:\n",
    "\n",
    "```python\n",
    "open(file, mode='r', buffering=-1, encoding=None, errors=None, newline=None, closefd=True, opener=None)\n",
    "```\n",
    "\n",
    "- `file`: è un _path-like_ object e corrisponde al percorso del file nel file system; la gestione del file system si ottiene dai moduli `os` e `os.path\n",
    "\n",
    "- `mode`: la modalià di apertura del file\n",
    "    - `'r'` lettura (default)\n",
    "    - `'w'` scrittura: crea un nuovo file se non esiste e lo tronca se esiste già\n",
    "    - `'x'` solo creazione: se il file già esiste si genera un errore\n",
    "    - `'a'` append: scrive in coda senza troncare e crea un nuovo file se non esiste\n",
    "    - `'t'` text mode (default)\n",
    "    - `'b'` binary mode\n",
    "    - `'+'` aggiornamento: lettura/scrittura\n",
    "\n",
    "Gli argomenti seguenti sono opzionali:\n",
    "- `buffering`: gestione del buffering\n",
    "- `encoding`: codifica; `encoding='utf-8'` per file Unicode; l'encoding di default è dipendente dalla piattaforma; Windows usa `'cp1252'` e Linux/UNIX `'utf-8'`\n",
    "- `errors`: specifica la codifica/decodifica defli errori\n",
    "- `newline`​: gestione del carattere di newline (valori disponibili: None, `' '`, `'\\n'`, `'\\r'`, and `'\\r\\n'`\n",
    "- `closefd`: dev'essere `True` altrimenti si genera un errore\n",
    "- `opener`: indica un gestore dell'apertura del file definito dall'utente che _deve_ restituire un descrittore di file aperto.\n",
    "\n",
    "`open()` restituisce un file object e l'eccezione `FileNotFoundError` in caso di file non trovato.\n",
    "\n",
    "```python\n",
    "#\n",
    "# Alcuni esempi di apertura di un file\n",
    "#\n",
    "\n",
    "f = open(\"test.txt\")      # equivalente a 'r' o 'rt'\n",
    "f = open(\"test.txt\",'w')  # scrive il file in text mode\n",
    "f = open(\"img.bmp\",'r+b') # legge e scrive il file in binary mode\n",
    "\n",
    "#\n",
    "# Operazioni sui file\n",
    "#\n",
    "\n",
    "f = open(\"test.txt\",encoding = 'utf-8')\n",
    "\n",
    "# esecuzione delle operazioni sul file\n",
    "\n",
    "f.close() # chiusura\n",
    "\n",
    "#\n",
    "# Gestione più sicura del file con garanzia di chiusura\n",
    "#\n",
    "\n",
    "# Uso di try ... finally\n",
    "try:\n",
    "    f = open(\"test.txt\",encoding = 'utf-8')\n",
    "\n",
    "    # esegue le operazioni e intercetta le eccezioni\n",
    "\n",
    "finally:\n",
    "    f.close() # chiude il file sempre a prescindere dal fatto che ci siano state eccezioni\n",
    "\n",
    "# Uso di with e chiusura implicita del file\n",
    "\n",
    "with open(\"test.txt\",encoding = 'utf-8') as f:\n",
    "     # esegue le operazioni e chiude automaticamente alla fine del blocco with\n",
    "```"
   ]
  },
  {
   "cell_type": "code",
   "execution_count": 6,
   "metadata": {
    "collapsed": false,
    "jupyter": {
     "outputs_hidden": false
    },
    "pycharm": {
     "is_executing": false,
     "name": "#%%\n"
    }
   },
   "outputs": [
    {
     "name": "stdout",
     "output_type": "stream",
     "text": [
      "#!/us\n",
      "r/bin/py\n",
      "13\n",
      "#!/usr/bin/python -tt\n",
      "\n",
      "# Copyright 2010 Google Inc.\n",
      "\n",
      "# Licensed under the Apache License, Version 2.0\n",
      "\n",
      "# http://www.apache.org/licenses/LICENSE-2.0\n",
      "\n",
      "\n",
      "\n",
      "# Google's Python Class\n",
      "\n",
      "# http://code.google.com/edu/languages/google-python-class/\n",
      "\n",
      "\n",
      "\n",
      "\"\"\"A tiny Python program to check that Python is working.\n",
      "\n",
      "Try running this program from the command line like this:\n",
      "\n",
      "  python hello.py\n",
      "\n",
      "  python hello.py Alice\n",
      "\n",
      "That should print:\n",
      "\n",
      "  Hello World -or- Hello Alice\n",
      "\n",
      "Try changing the 'Hello' to 'Howdy' and run again.\n",
      "\n",
      "Once you have that working, you're ready for class -- you can edit\n",
      "\n",
      "and run Python code; now you just need to learn Python!\n",
      "\n",
      "\"\"\"\n",
      "\n",
      "\n",
      "\n",
      "import sys\n",
      "\n",
      "\n",
      "\n",
      "# Define a main() function that prints a little greeting.\n",
      "\n",
      "def main():\n",
      "\n",
      "  # Get the name from the command line, using 'World' as a fallback.\n",
      "\n",
      "  if len(sys.argv) >= 2:\n",
      "\n",
      "    name = sys.argv[1]\n",
      "\n",
      "  else:\n",
      "\n",
      "    name = 'World'\n",
      "\n",
      "  print ('Hello', name)\n",
      "\n",
      "\n",
      "\n",
      "# This is the standard boilerplate that calls the main() function.\n",
      "\n",
      "if __name__ == '__main__':\n",
      "\n",
      "  main()\n",
      "\n",
      "['#!/usr/bin/python -tt\\n', '# Copyright 2010 Google Inc.\\n', '# Licensed under the Apache License, Version 2.0\\n', '# http://www.apache.org/licenses/LICENSE-2.0\\n', '\\n', \"# Google's Python Class\\n\", '# http://code.google.com/edu/languages/google-python-class/\\n', '\\n', '\"\"\"A tiny Python program to check that Python is working.\\n', 'Try running this program from the command line like this:\\n', '  python hello.py\\n', '  python hello.py Alice\\n', 'That should print:\\n', '  Hello World -or- Hello Alice\\n', \"Try changing the 'Hello' to 'Howdy' and run again.\\n\", \"Once you have that working, you're ready for class -- you can edit\\n\", 'and run Python code; now you just need to learn Python!\\n', '\"\"\"\\n', '\\n', 'import sys\\n', '\\n', '# Define a main() function that prints a little greeting.\\n', 'def main():\\n', \"  # Get the name from the command line, using 'World' as a fallback.\\n\", '  if len(sys.argv) >= 2:\\n', '    name = sys.argv[1]\\n', '  else:\\n', \"    name = 'World'\\n\", \"  print ('Hello', name)\\n\", '\\n', '# This is the standard boilerplate that calls the main() function.\\n', \"if __name__ == '__main__':\\n\", '  main()\\n']\n"
     ]
    }
   ],
   "source": [
    "with open('./Python programming/hello.py',encoding='utf-8') as f:\n",
    "    print(f.read(5))    # legge cinque elementi\n",
    "    print(f.read(8))    # legge 8 elementi\n",
    "    print(f.tell())     # riporta la posizione del cursore nel file\n",
    "    f.seek(0)           # si riposiziona a 0\n",
    "    \n",
    "    # loop di lettura di tutte le linee            \n",
    "    line = f.readline()\n",
    "    while line != '':\n",
    "        print(line)\n",
    "        line = f.readline()\n",
    "    \n",
    "    f.seek(0) \n",
    "    \n",
    "    # legge tutte le linee in una lista\n",
    "    print(f.readlines())\n"
   ]
  },
  {
   "cell_type": "code",
   "execution_count": 10,
   "metadata": {
    "collapsed": false,
    "jupyter": {
     "outputs_hidden": false
    },
    "pycharm": {
     "is_executing": false,
     "name": "#%%\n"
    }
   },
   "outputs": [],
   "source": [
    "# Creiamo un piccolo file csv (Comma Separated Values) da una lista di dict\n",
    "persone = [{'matricola': 1234,'nome': 'Jhon Doe', 'reparto': 'A'},\n",
    "           {'matricola': 8976,'nome': 'Jack Russell', 'reparto': 'B'},\n",
    "           {'matricola': 7732,'nome': 'Brian May', 'reparto': 'A'}]\n",
    "\n",
    "with open('./Data/persone.csv','w',encoding='utf-8') as dataFile:\n",
    "    \n",
    "    # Dapprima scriviamo nel file la linea di intestazione\n",
    "    # che è costituita dalle chiavi di uno qualunque dei dict\n",
    "    for i,k in enumerate(persone[0].keys()):\n",
    "        if i == len(persone[0].keys()) -1:\n",
    "            dataFile.write(k+'\\n')      # andiamo a capo dopo l'ultimo campo\n",
    "        else:\n",
    "            dataFile.write(k+', ')      # altrimenti mettiamo la virgola\n",
    "    \n",
    "    # Stampiamo per ogni riga, terminata dal carattere newline, gli elementi di ogni dict\n",
    "    for i in range(len(persone)):\n",
    "        dataFile.write(f'{persone[i][\"matricola\"]}, {persone[i][\"nome\"]}, {persone[i][\"reparto\"]}\\n')\n"
   ]
  },
  {
   "cell_type": "markdown",
   "metadata": {
    "pycharm": {
     "name": "#%% md\n"
    }
   },
   "source": [
    "### Gestione dei file CSV\n",
    "\n",
    "Python fornisce un esplicito modulo `csv` per gestire la lettura e la scrittura di file csv che sono uno dei formati più diffusi per esportare dei dati da un database. Di seguito alcuni esempi di lettura."
   ]
  },
  {
   "cell_type": "code",
   "execution_count": 13,
   "metadata": {
    "collapsed": false,
    "jupyter": {
     "outputs_hidden": false
    },
    "pycharm": {
     "is_executing": false,
     "name": "#%%\n"
    }
   },
   "outputs": [
    {
     "name": "stdout",
     "output_type": "stream",
     "text": [
      "['matricola', ' nome', ' reparto']\n",
      "['1234', ' Jhon Doe', ' A']\n",
      "['8976', ' Jack Russell', ' B']\n",
      "['7732', ' Brian May', ' A']\n"
     ]
    }
   ],
   "source": [
    "import csv\n",
    "\n",
    "##\n",
    "#\n",
    "# csv.reader() legge un file csv come una lista di righe\n",
    "# ciascuna delle quali è una lista di valori\n",
    "#\n",
    "with open('./Data/persone.csv', 'r') as csvFile:\n",
    "    reader = csv.reader(csvFile)\n",
    "    for row in reader:\n",
    "        print(row)\n"
   ]
  },
  {
   "cell_type": "code",
   "execution_count": 1,
   "metadata": {
    "collapsed": false,
    "jupyter": {
     "outputs_hidden": false
    },
    "pycharm": {
     "is_executing": false,
     "name": "#%%\n"
    }
   },
   "outputs": [
    {
     "name": "stdout",
     "output_type": "stream",
     "text": [
      "['matricola', 'nome', 'reparto']\n",
      "['1234', 'Jhon Doe', 'A']\n",
      "['8976', 'Jack Russel', 'B']\n",
      "['7732', 'Brian May', 'A']\n"
     ]
    }
   ],
   "source": [
    "import csv\n",
    "\n",
    "##\n",
    "#\n",
    "# In caso di file csv con una sintassi particolare come linee vuote iniziali\n",
    "# alcuni campi con le virgolette ovvero delimitatori diversi dalla virgola\n",
    "# è possibile usare un 'dialetto' csv e registrarlo per leggere correttamente i dati\n",
    "#\n",
    "csv.register_dialect('myDialect',\n",
    "                     delimiter = ';',       # nuovo delimitatore\n",
    "                     quoting=csv.QUOTE_ALL, # tutti i campi vengono racchiusi da virgolette per omogeneità\n",
    "                     skipinitialspace=True) # ci sono spazi dopo il delimitatore\n",
    "\n",
    "with open('./Data/persone1.csv', 'r') as csvFile:\n",
    "    reader = csv.reader(csvFile, dialect='myDialect')\n",
    "    \n",
    "    for row in reader:\n",
    "        print(row)\n"
   ]
  },
  {
   "cell_type": "code",
   "execution_count": 5,
   "metadata": {
    "collapsed": false,
    "jupyter": {
     "outputs_hidden": false
    },
    "pycharm": {
     "is_executing": false,
     "name": "#%%\n"
    }
   },
   "outputs": [
    {
     "name": "stdout",
     "output_type": "stream",
     "text": [
      "{'matricola': '1234', 'nome': 'Jhon Doe', 'reparto': 'A'}\n",
      "{'matricola': '8976', 'nome': 'Jack Russel', 'reparto': 'B'}\n",
      "{'matricola': '7732', 'nome': 'Brian May', 'reparto': 'A'}\n"
     ]
    }
   ],
   "source": [
    "import csv\n",
    "\n",
    "##\n",
    "#\n",
    "# In caso di file csv con una sintassi particolare come linee vuote iniziali\n",
    "# alcuni campi con le virgolette ovvero delimitatori diversi dalla virgola\n",
    "# è possibile usare un 'dialetto' csv e registrarlo per leggere correttamente i dati\n",
    "#\n",
    "csv.register_dialect('myDialect',\n",
    "                     delimiter = ';',\n",
    "                     quoting=csv.QUOTE_ALL,\n",
    "                     skipinitialspace=True)\n",
    "\n",
    "with open('./Data/persone1.csv', 'r') as csvFile:\n",
    "    reader = csv.DictReader(csvFile, dialect='myDialect')\n",
    "    \n",
    "    for row in reader:\n",
    "        print(dict(row))\n",
    "        "
   ]
  },
  {
   "cell_type": "markdown",
   "metadata": {
    "pycharm": {
     "name": "#%% md\n"
    }
   },
   "source": [
    "Vediamo degli esempi di scrittura e/o inserimento dati."
   ]
  },
  {
   "cell_type": "code",
   "execution_count": 6,
   "metadata": {
    "collapsed": false,
    "jupyter": {
     "outputs_hidden": false
    },
    "pycharm": {
     "is_executing": false,
     "name": "#%%\n"
    }
   },
   "outputs": [],
   "source": [
    "##\n",
    "#\n",
    "# aggiungiamo una riga da una lista di dati a persone.csv\n",
    "#\n",
    "\n",
    "import csv\n",
    "\n",
    "row = [3344, 'ZZ Top', 'D']\n",
    "\n",
    "with open('./Data/persone.csv', 'a') as csvFile:\n",
    "    writer = csv.writer(csvFile)\n",
    "    writer.writerow(row)\n"
   ]
  },
  {
   "cell_type": "code",
   "execution_count": 7,
   "metadata": {
    "collapsed": false,
    "jupyter": {
     "outputs_hidden": false
    },
    "pycharm": {
     "is_executing": false,
     "name": "#%%\n"
    }
   },
   "outputs": [
    {
     "name": "stdout",
     "output_type": "stream",
     "text": [
      "writing completed\n"
     ]
    }
   ],
   "source": [
    "##\n",
    "#\n",
    "# Scriviamo un nuovo file a partire da una lista di liste, ognuna delle quali sarà una riga\n",
    "# La prima lista conterrà i nomi dei campi\n",
    "#\n",
    "\n",
    "import csv\n",
    "\n",
    "csvData = [['Quantità', 'Artista', 'Reparto'], ['21', 'Boy George', 'Pop'], ['56', 'Genesis', 'Rock'],['32', 'W.A. Mozart', 'Classica']]\n",
    "\n",
    "csv.register_dialect('myDialect',\n",
    "delimiter = ';',\n",
    "quotechar = '\"',                    # il dialetto utilizza anche un proprio carattere per quotare gli elementi\n",
    "quoting=csv.QUOTE_ALL,\n",
    "skipinitialspace=True)\n",
    "\n",
    "with open('./Data/dischi.csv', 'w', encoding='utf-8') as csvFile:\n",
    "    writer = csv.writer(csvFile, dialect='myDialect')\n",
    "    writer.writerows(csvData)\n",
    "\n",
    "print(\"writing completed\")\n"
   ]
  },
  {
   "cell_type": "code",
   "execution_count": 11,
   "metadata": {
    "collapsed": false,
    "jupyter": {
     "outputs_hidden": false
    },
    "pycharm": {
     "is_executing": false,
     "name": "#%%\n"
    }
   },
   "outputs": [
    {
     "name": "stdout",
     "output_type": "stream",
     "text": [
      "writing completed\n"
     ]
    }
   ],
   "source": [
    "##\n",
    "#\n",
    "# Analogo a prima, ma usiamo un DictWriter per scrivere i dati da dict\n",
    "#\n",
    "import csv\n",
    "\n",
    "csvData = [{'Cognome e Nome': 'Mario Rossi', 'Data di nascita': '03/08/1933', 'Luogo di nascita': 'Palermo', 'Provincia': 'PA', 'CF': 'XXXTTT33R44R675E'},\n",
    "           {'Cognome e Nome': 'Giuseppe Verdi', 'Data di nascita': '12/05/1971', 'Luogo di nascita': 'Monza', 'Provincia': 'MI', 'CF': 'GGGVVV44U66M456P'},\n",
    "           {'Cognome e Nome': 'Carlo Bianchi', 'Data di nascita': '30/09/2000', 'Luogo di nascita': 'Macerata', 'Provincia': 'MC', 'CF': 'CCCBBB89R12O984F'}]\n",
    "\n",
    "\n",
    "csv.register_dialect('myDialect',\n",
    "delimiter = ';',\n",
    "quotechar = '\"',                    # il dialetto utilizza anche un proprio carattere per quotare gli elementi\n",
    "quoting=csv.QUOTE_ALL,\n",
    "skipinitialspace=True)\n",
    "\n",
    "with open('./Data/anagrafica.csv', 'w') as csvfile:\n",
    "    fieldnames = ['Cognome e Nome', 'Data di nascita', 'Luogo di nascita', 'Provincia', 'CF']\n",
    "    writer = csv.DictWriter(csvfile, fieldnames=fieldnames, dialect=\"myDialect\")\n",
    "    writer.writeheader()\n",
    "    writer.writerows(csvData)\n",
    "\n",
    "print(\"writing completed\")\n"
   ]
  },
  {
   "cell_type": "markdown",
   "metadata": {
    "pycharm": {
     "name": "#%% md\n"
    }
   },
   "source": [
    "## Gestione dei file `json`\n",
    "\n",
    "Il modulo `json` consente di leggere/scrivere informazioni da/a apposite strutture dati Python secondo la eguente tabella di conversione:\n",
    "\n",
    "<table>\n",
    "\t<thead>\n",
    "\t\t<tr>\n",
    "\t\t\t<th>Python</th>\n",
    "\t\t\t<th>JSON Equivalent</th>\n",
    "\t\t</tr>\n",
    "\t</thead>\n",
    "\t<tbody>\n",
    "\t\t<tr>\n",
    "\t\t\t<td><code>dict</code></td>\n",
    "\t\t\t<td>object</td>\n",
    "\t\t</tr>\n",
    "\t\t<tr>\n",
    "\t\t\t<td><code>list</code>, <code>tuple</code></td>\n",
    "\t\t\t<td>array</td>\n",
    "\t\t</tr>\n",
    "\t\t<tr>\n",
    "\t\t\t<td><code>str</code></td>\n",
    "\t\t\t<td>string</td>\n",
    "\t\t</tr>\n",
    "\t\t<tr>\n",
    "\t\t\t<td><code>int</code>, <code>float</code>, <code>int</code></td>\n",
    "\t\t\t<td>number</td>\n",
    "\t\t</tr>\n",
    "\t\t<tr>\n",
    "\t\t\t<td><code>True</code></td>\n",
    "\t\t\t<td>true</td>\n",
    "\t\t</tr>\n",
    "\t\t<tr>\n",
    "\t\t\t<td><code>False</code></td>\n",
    "\t\t\t<td>false</td>\n",
    "\t\t</tr>\n",
    "\t\t<tr>\n",
    "\t\t\t<td><code>None</code></td>\n",
    "\t\t\t<td>null</td>\n",
    "\t\t</tr>\n",
    "\t</tbody>\n",
    "</table>\n"
   ]
  },
  {
   "cell_type": "code",
   "execution_count": 7,
   "metadata": {
    "collapsed": false,
    "jupyter": {
     "outputs_hidden": false
    },
    "pycharm": {
     "is_executing": false,
     "name": "#%%\n"
    }
   },
   "outputs": [
    {
     "name": "stdout",
     "output_type": "stream",
     "text": [
      "{'dischi': [{'Artista': 'John Bon Jovi', 'Generi': ['Rock', 'Pop'], 'Quantità': 34}, {'Artista': 'Elton John', 'Generi': ['Pop', 'Funky'], 'Quantità': 12}, {'Artista': 'George Benson', 'Generi': ['Blues', 'Jazz', 'Pop'], 'Quantità': 22}]}\n",
      "{\n",
      "    \"dischi\": [\n",
      "        {\n",
      "            \"Artista\": \"John Bon Jovi\",\n",
      "            \"Generi\": [\n",
      "                \"Rock\",\n",
      "                \"Pop\"\n",
      "            ],\n",
      "            \"Quantit\\u00e0\": 34\n",
      "        },\n",
      "        {\n",
      "            \"Artista\": \"Elton John\",\n",
      "            \"Generi\": [\n",
      "                \"Pop\",\n",
      "                \"Funky\"\n",
      "            ],\n",
      "            \"Quantit\\u00e0\": 12\n",
      "        },\n",
      "        {\n",
      "            \"Artista\": \"George Benson\",\n",
      "            \"Generi\": [\n",
      "                \"Blues\",\n",
      "                \"Jazz\",\n",
      "                \"Pop\"\n",
      "            ],\n",
      "            \"Quantit\\u00e0\": 22\n",
      "        }\n",
      "    ]\n",
      "}\n"
     ]
    }
   ],
   "source": [
    "##\n",
    "#\n",
    "# Lettura di un file json e stampa normale e formattata\n",
    "#\n",
    "\n",
    "import json\n",
    "\n",
    "with open('./Data/dischi.json',encoding='utf-8') as f:\n",
    "    data = json.load(f)\n",
    "    # Output: {'name': 'Bob', 'languages': ['English', 'Fench']}\n",
    "\n",
    "print(data)\n",
    "\n",
    "print(json.dumps(data, indent = 4, sort_keys=True))"
   ]
  },
  {
   "cell_type": "code",
   "execution_count": 8,
   "metadata": {
    "collapsed": false,
    "jupyter": {
     "outputs_hidden": false
    },
    "pycharm": {
     "is_executing": false,
     "name": "#%%\n"
    }
   },
   "outputs": [
    {
     "name": "stdout",
     "output_type": "stream",
     "text": [
      "writing completed\n"
     ]
    }
   ],
   "source": [
    "##\n",
    "# scrittura di dati organizzati in un dict su file json\n",
    "#\n",
    "\n",
    "import json\n",
    "\n",
    "person_dict = [{'Cognome e Nome': 'Mario Rossi', 'Data di nascita': '03/08/1933', 'Luogo di nascita': 'Palermo', 'Provincia': 'PA', 'CF': 'XXXTTT33R44R675E'},\n",
    "           {'Cognome e Nome': 'Giuseppe Verdi', 'Data di nascita': '12/05/1971', 'Luogo di nascita': 'Monza', 'Provincia': 'MI', 'CF': 'GGGVVV44U66M456P'},\n",
    "           {'Cognome e Nome': 'Carlo Bianchi', 'Data di nascita': '30/09/2000', 'Luogo di nascita': 'Macerata', 'Provincia': 'MC', 'CF': 'CCCBBB89R12O984F'}]\n",
    "\n",
    "with open('./Data/persone.json', 'w', encoding='utf-8') as json_file:\n",
    "  json.dump(person_dict, json_file)\n",
    "\n",
    "print(\"writing completed\")"
   ]
  },
  {
   "cell_type": "code",
   "execution_count": 25,
   "metadata": {
    "collapsed": false,
    "jupyter": {
     "outputs_hidden": false
    },
    "pycharm": {
     "is_executing": false,
     "name": "#%%\n"
    }
   },
   "outputs": [
    {
     "data": {
      "text/plain": [
       "['1234', '8976', '7732', '3344']"
      ]
     },
     "execution_count": 25,
     "metadata": {},
     "output_type": "execute_result"
    }
   ],
   "source": [
    "##\n",
    "# \n",
    "# File ed espressioni regolari\n",
    "#\n",
    "\n",
    "import re\n",
    "import csv\n",
    "\n",
    "searchFor = r\"[1-9]+\"\n",
    "\n",
    "with open('./Data/persone.csv', 'r', encoding='utf-8') as f:\n",
    "    strings=re.findall(searchFor,f.read())\n",
    "\n",
    "strings\n"
   ]
  },
  {
   "cell_type": "markdown",
   "metadata": {
    "pycharm": {
     "name": "#%% md\n"
    }
   },
   "source": [
    "# Utilità di sistema\n",
    "\n",
    "## File System -- `os, os.path, shutil`\n",
    "\n",
    "   - `filenames = os.listdir(dir)`: lista dei soli nomi dei file in `dir` esclusi `.` e `..`\n",
    "   - `os.path.join(dir, filename)`: crea un percorso da un nome di file e da un nome di cartella\n",
    "   - `os.path.abspath(path)`: restituisce la forma assoluta di un percorso\n",
    "   - `os.path.dirname(path), os.path.basename(path)` restituiscono rispettivamente il nome della cartella ed il nome del file da un percorso, ad esempio `dir/foo/bar.htm` restituisce rispettivamente `dir/foo` e `bar.html`\n",
    "   - `os.path.exists(path)`: verifica se il percorso esiste\n",
    "   - `os.mkdir(dir_path)`: crea una cartella alla fine del percorso\n",
    "   - `os.makedirs(dir_path)`: crea tutte le cartelle nel percorso\n",
    "   - `shutil.copy(source-path, dest-path)`: copia dal percorso sorgente a quello destinazione\n",
    "   - `shutil.move(source-path, dest-path)`: sposta dal percorso sorgente a quello destinazione\n",
    "   - `shutil.rmtree(path)`: cancella ricorsivamente tutte le cartelle del percorso\n",
    "   - `shutil.make_archive(base_name, format, root_dir=None, base_dir=None)`: crea un archivio `base_name` nel formato specificato da `format` (`'zip'`, `'tar'`, ....) che verrà salvato in `root_dir`, mentre l'archiviazione parte da `base_dir`, entrambe di default la cartella corrente\n",
    "   - `shutil.unpack_archive(filename, extractdir=None, format=None)`: estrae un archivio `filename` nel specificato da formato `format` (`'zip'`, `'tar'`, ....) che verrà estratto in `extractdir`, di default la cartella corrente\n",
    "  \n",
    "    \n",
    "## Running External Processes -- `commands`\n",
    "\n",
    "- `(status, output) = commands.getstatusoutput(cmd)` -- runs the command, waits for it to exit, and returns its status int and output text as a tuple. The command is run with its standard output and standard error combined into the one output text. The status will be non-zero if the command failed. Since the standard-err of the command is captured, if it fails, we need to print some indication of what happened.\n",
    "- `output = commands.getoutput(cmd)` -- as above, but without the status int.\n",
    "- There is also a simple `os.system(cmd)` which runs the command and dumps its output onto your output and returns its error code. This works if you want to run the command but do not need to capture its output into your python data structures.\n",
    "\n",
    "## HTTP -- `urllib`\n",
    "\n",
    "\n",
    "   - `urllib.request` for opening and reading URLs\n",
    "       - `ufile = urllib.request.urlopen(url)` -- returns a file like object for that url \n",
    "       - `baseurl = ufile.geturl()` -- gets the \"base\" url for the request, which may be different from the original because of redirects \n",
    "\n",
    "   - `urllib.error` containing the exceptions raised by urllib.request\n",
    "\n",
    "   - `urllib.parse` for parsing URLs\n",
    "       - `urllib.parse.urlparse(urlstring, scheme='', allow_fragments=True)` -- parsing of the URL according to the RFC\n",
    "       - `urllib.parse.urljoin(baseurl, url)` -- given a url that may or may not be full, and the baseurl of the page it comes from, return a full url. Use `geturl()` above to provide the base url.\n",
    "\n",
    "   - `urllib.robotparser` for parsing robots.txt files\n",
    "\n",
    "\n",
    "# Esercizi\n",
    "\n",
    "1. Si scriva un programma `analysis.py` che prende in ingresso una url che punta ad un file di dati, ne fa il download ed eventualmente lo decomprime. Si assume che i dati siano in formato `.csv`. Il programma accetta una query sui campi del data set, con la seguente sintassi:\n",
    "```\n",
    "analysis.py <url> --field <numero> <operatore> [<valore>] [and|or --field <numero> <operatore> [<valore>] ...]\n",
    "```\n",
    "Si intende che le clausole in `or` vanno eseguite _dopo_ quelle in `and` per cui `a and b or c --> (a and b) or c`. I valori ammessi per `<operatore>` sono: `>, <, >=, <=, ==, !=, regex, min, max` di cui `min` e `max` non hanno valori su cui agire. Il programma dovrà selezionare le righe di dati che soddisfano i criteri specificati e salvarle in un nuovo file che avrà il nome: `<nome file di input senza estensione>_results.csv`."
   ]
  },
  {
   "cell_type": "code",
   "execution_count": 11,
   "metadata": {},
   "outputs": [
    {
     "ename": "ModuleNotFoundError",
     "evalue": "No module named 'commands'",
     "output_type": "error",
     "traceback": [
      "\u001b[0;31m---------------------------------------------------------------------------\u001b[0m",
      "\u001b[0;31mModuleNotFoundError\u001b[0m                       Traceback (most recent call last)",
      "\u001b[0;32m<ipython-input-11-2a2b260dae22>\u001b[0m in \u001b[0;36m<module>\u001b[0;34m\u001b[0m\n\u001b[0;32m----> 1\u001b[0;31m \u001b[0;32mimport\u001b[0m \u001b[0mcommands\u001b[0m\u001b[0;34m\u001b[0m\u001b[0;34m\u001b[0m\u001b[0m\n\u001b[0m\u001b[1;32m      2\u001b[0m \u001b[0;34m\u001b[0m\u001b[0m\n\u001b[1;32m      3\u001b[0m \u001b[0mhelp\u001b[0m\u001b[0;34m(\u001b[0m\u001b[0mcommands\u001b[0m\u001b[0;34m)\u001b[0m\u001b[0;34m\u001b[0m\u001b[0;34m\u001b[0m\u001b[0m\n",
      "\u001b[0;31mModuleNotFoundError\u001b[0m: No module named 'commands'"
     ]
    }
   ],
   "source": [
    "import commands\n",
    "\n",
    "help(commands)"
   ]
  },
  {
   "cell_type": "code",
   "execution_count": null,
   "metadata": {},
   "outputs": [],
   "source": []
  }
 ],
 "metadata": {
  "kernelspec": {
   "display_name": "bigdata",
   "language": "python",
   "name": "bigdata"
  },
  "language_info": {
   "codemirror_mode": {
    "name": "ipython",
    "version": 3
   },
   "file_extension": ".py",
   "mimetype": "text/x-python",
   "name": "python",
   "nbconvert_exporter": "python",
   "pygments_lexer": "ipython3",
   "version": "3.7.3"
  },
  "pycharm": {
   "stem_cell": {
    "cell_type": "raw",
    "metadata": {
     "collapsed": false
    },
    "source": []
   }
  }
 },
 "nbformat": 4,
 "nbformat_minor": 4
}
